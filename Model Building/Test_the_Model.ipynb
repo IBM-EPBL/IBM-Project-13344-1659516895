{
  "cells": [
    {
      "cell_type": "markdown",
      "metadata": {
        "id": "rZ965TxxTwVk"
      },
      "source": [
        "Importing Libraries"
      ]
    },
    {
      "cell_type": "code",
      "execution_count": 2,
      "metadata": {
        "id": "2DeaGdYERJQM"
      },
      "outputs": [],
      "source": [
        "import matplotlib.pyplot as plt\n",
        "import pandas as pd\n",
        "import numpy as np\n",
        "import datetime\n",
        "import warnings\n",
        "import itertools\n",
        "import statsmodels.api as sm\n",
        "import seaborn as sns"
      ]
    },
    {
      "cell_type": "markdown",
      "metadata": {
        "id": "RN47tbTjTzdu"
      },
      "source": [
        "Importing the Dataset"
      ]
    },
    {
      "cell_type": "code",
      "execution_count": 3,
      "metadata": {
        "id": "BjVavvq5RsYs"
      },
      "outputs": [],
      "source": [
        "data=pd.read_excel(\"Crude Oil Prices Daily.xlsx\")"
      ]
    },
    {
      "cell_type": "code",
      "execution_count": 5,
      "metadata": {
        "colab": {
          "base_uri": "https://localhost:8080/",
          "height": 206
        },
        "id": "Mp7d5dcLR0zG",
        "outputId": "7a8f41b0-2fff-4c78-8e00-904c3fdb5602"
      },
      "outputs": [
        {
          "output_type": "execute_result",
          "data": {
            "text/plain": [
              "        Date  Closing Value\n",
              "0 1986-01-02          25.56\n",
              "1 1986-01-03          26.00\n",
              "2 1986-01-06          26.53\n",
              "3 1986-01-07          25.85\n",
              "4 1986-01-08          25.87"
            ],
            "text/html": [
              "\n",
              "  <div id=\"df-cfcd1428-cd6a-4629-97d5-2307a9398fd4\">\n",
              "    <div class=\"colab-df-container\">\n",
              "      <div>\n",
              "<style scoped>\n",
              "    .dataframe tbody tr th:only-of-type {\n",
              "        vertical-align: middle;\n",
              "    }\n",
              "\n",
              "    .dataframe tbody tr th {\n",
              "        vertical-align: top;\n",
              "    }\n",
              "\n",
              "    .dataframe thead th {\n",
              "        text-align: right;\n",
              "    }\n",
              "</style>\n",
              "<table border=\"1\" class=\"dataframe\">\n",
              "  <thead>\n",
              "    <tr style=\"text-align: right;\">\n",
              "      <th></th>\n",
              "      <th>Date</th>\n",
              "      <th>Closing Value</th>\n",
              "    </tr>\n",
              "  </thead>\n",
              "  <tbody>\n",
              "    <tr>\n",
              "      <th>0</th>\n",
              "      <td>1986-01-02</td>\n",
              "      <td>25.56</td>\n",
              "    </tr>\n",
              "    <tr>\n",
              "      <th>1</th>\n",
              "      <td>1986-01-03</td>\n",
              "      <td>26.00</td>\n",
              "    </tr>\n",
              "    <tr>\n",
              "      <th>2</th>\n",
              "      <td>1986-01-06</td>\n",
              "      <td>26.53</td>\n",
              "    </tr>\n",
              "    <tr>\n",
              "      <th>3</th>\n",
              "      <td>1986-01-07</td>\n",
              "      <td>25.85</td>\n",
              "    </tr>\n",
              "    <tr>\n",
              "      <th>4</th>\n",
              "      <td>1986-01-08</td>\n",
              "      <td>25.87</td>\n",
              "    </tr>\n",
              "  </tbody>\n",
              "</table>\n",
              "</div>\n",
              "      <button class=\"colab-df-convert\" onclick=\"convertToInteractive('df-cfcd1428-cd6a-4629-97d5-2307a9398fd4')\"\n",
              "              title=\"Convert this dataframe to an interactive table.\"\n",
              "              style=\"display:none;\">\n",
              "        \n",
              "  <svg xmlns=\"http://www.w3.org/2000/svg\" height=\"24px\"viewBox=\"0 0 24 24\"\n",
              "       width=\"24px\">\n",
              "    <path d=\"M0 0h24v24H0V0z\" fill=\"none\"/>\n",
              "    <path d=\"M18.56 5.44l.94 2.06.94-2.06 2.06-.94-2.06-.94-.94-2.06-.94 2.06-2.06.94zm-11 1L8.5 8.5l.94-2.06 2.06-.94-2.06-.94L8.5 2.5l-.94 2.06-2.06.94zm10 10l.94 2.06.94-2.06 2.06-.94-2.06-.94-.94-2.06-.94 2.06-2.06.94z\"/><path d=\"M17.41 7.96l-1.37-1.37c-.4-.4-.92-.59-1.43-.59-.52 0-1.04.2-1.43.59L10.3 9.45l-7.72 7.72c-.78.78-.78 2.05 0 2.83L4 21.41c.39.39.9.59 1.41.59.51 0 1.02-.2 1.41-.59l7.78-7.78 2.81-2.81c.8-.78.8-2.07 0-2.86zM5.41 20L4 18.59l7.72-7.72 1.47 1.35L5.41 20z\"/>\n",
              "  </svg>\n",
              "      </button>\n",
              "      \n",
              "  <style>\n",
              "    .colab-df-container {\n",
              "      display:flex;\n",
              "      flex-wrap:wrap;\n",
              "      gap: 12px;\n",
              "    }\n",
              "\n",
              "    .colab-df-convert {\n",
              "      background-color: #E8F0FE;\n",
              "      border: none;\n",
              "      border-radius: 50%;\n",
              "      cursor: pointer;\n",
              "      display: none;\n",
              "      fill: #1967D2;\n",
              "      height: 32px;\n",
              "      padding: 0 0 0 0;\n",
              "      width: 32px;\n",
              "    }\n",
              "\n",
              "    .colab-df-convert:hover {\n",
              "      background-color: #E2EBFA;\n",
              "      box-shadow: 0px 1px 2px rgba(60, 64, 67, 0.3), 0px 1px 3px 1px rgba(60, 64, 67, 0.15);\n",
              "      fill: #174EA6;\n",
              "    }\n",
              "\n",
              "    [theme=dark] .colab-df-convert {\n",
              "      background-color: #3B4455;\n",
              "      fill: #D2E3FC;\n",
              "    }\n",
              "\n",
              "    [theme=dark] .colab-df-convert:hover {\n",
              "      background-color: #434B5C;\n",
              "      box-shadow: 0px 1px 3px 1px rgba(0, 0, 0, 0.15);\n",
              "      filter: drop-shadow(0px 1px 2px rgba(0, 0, 0, 0.3));\n",
              "      fill: #FFFFFF;\n",
              "    }\n",
              "  </style>\n",
              "\n",
              "      <script>\n",
              "        const buttonEl =\n",
              "          document.querySelector('#df-cfcd1428-cd6a-4629-97d5-2307a9398fd4 button.colab-df-convert');\n",
              "        buttonEl.style.display =\n",
              "          google.colab.kernel.accessAllowed ? 'block' : 'none';\n",
              "\n",
              "        async function convertToInteractive(key) {\n",
              "          const element = document.querySelector('#df-cfcd1428-cd6a-4629-97d5-2307a9398fd4');\n",
              "          const dataTable =\n",
              "            await google.colab.kernel.invokeFunction('convertToInteractive',\n",
              "                                                     [key], {});\n",
              "          if (!dataTable) return;\n",
              "\n",
              "          const docLinkHtml = 'Like what you see? Visit the ' +\n",
              "            '<a target=\"_blank\" href=https://colab.research.google.com/notebooks/data_table.ipynb>data table notebook</a>'\n",
              "            + ' to learn more about interactive tables.';\n",
              "          element.innerHTML = '';\n",
              "          dataTable['output_type'] = 'display_data';\n",
              "          await google.colab.output.renderOutput(dataTable, element);\n",
              "          const docLink = document.createElement('div');\n",
              "          docLink.innerHTML = docLinkHtml;\n",
              "          element.appendChild(docLink);\n",
              "        }\n",
              "      </script>\n",
              "    </div>\n",
              "  </div>\n",
              "  "
            ]
          },
          "metadata": {},
          "execution_count": 5
        }
      ],
      "source": [
        "data.head()"
      ]
    },
    {
      "cell_type": "code",
      "execution_count": 4,
      "metadata": {
        "id": "YaylKZhDR2t3"
      },
      "outputs": [],
      "source": [
        "data.to_csv (\"crude_oil_price_daily.csv\", index = None, header=True)"
      ]
    },
    {
      "cell_type": "code",
      "execution_count": 6,
      "metadata": {
        "id": "OFHZNX08R39m"
      },
      "outputs": [],
      "source": [
        "df=pd.read_csv('crude_oil_price_daily.csv')"
      ]
    },
    {
      "cell_type": "code",
      "execution_count": 7,
      "metadata": {
        "colab": {
          "base_uri": "https://localhost:8080/",
          "height": 206
        },
        "id": "lYkRbbPwSE_0",
        "outputId": "1fb9dec9-05f9-453e-9e14-3f4ef890439a"
      },
      "outputs": [
        {
          "output_type": "execute_result",
          "data": {
            "text/plain": [
              "         Date  Closing Value\n",
              "0  1986-01-02          25.56\n",
              "1  1986-01-03          26.00\n",
              "2  1986-01-06          26.53\n",
              "3  1986-01-07          25.85\n",
              "4  1986-01-08          25.87"
            ],
            "text/html": [
              "\n",
              "  <div id=\"df-00714f0f-cf1b-42d0-affc-f0657a4ef263\">\n",
              "    <div class=\"colab-df-container\">\n",
              "      <div>\n",
              "<style scoped>\n",
              "    .dataframe tbody tr th:only-of-type {\n",
              "        vertical-align: middle;\n",
              "    }\n",
              "\n",
              "    .dataframe tbody tr th {\n",
              "        vertical-align: top;\n",
              "    }\n",
              "\n",
              "    .dataframe thead th {\n",
              "        text-align: right;\n",
              "    }\n",
              "</style>\n",
              "<table border=\"1\" class=\"dataframe\">\n",
              "  <thead>\n",
              "    <tr style=\"text-align: right;\">\n",
              "      <th></th>\n",
              "      <th>Date</th>\n",
              "      <th>Closing Value</th>\n",
              "    </tr>\n",
              "  </thead>\n",
              "  <tbody>\n",
              "    <tr>\n",
              "      <th>0</th>\n",
              "      <td>1986-01-02</td>\n",
              "      <td>25.56</td>\n",
              "    </tr>\n",
              "    <tr>\n",
              "      <th>1</th>\n",
              "      <td>1986-01-03</td>\n",
              "      <td>26.00</td>\n",
              "    </tr>\n",
              "    <tr>\n",
              "      <th>2</th>\n",
              "      <td>1986-01-06</td>\n",
              "      <td>26.53</td>\n",
              "    </tr>\n",
              "    <tr>\n",
              "      <th>3</th>\n",
              "      <td>1986-01-07</td>\n",
              "      <td>25.85</td>\n",
              "    </tr>\n",
              "    <tr>\n",
              "      <th>4</th>\n",
              "      <td>1986-01-08</td>\n",
              "      <td>25.87</td>\n",
              "    </tr>\n",
              "  </tbody>\n",
              "</table>\n",
              "</div>\n",
              "      <button class=\"colab-df-convert\" onclick=\"convertToInteractive('df-00714f0f-cf1b-42d0-affc-f0657a4ef263')\"\n",
              "              title=\"Convert this dataframe to an interactive table.\"\n",
              "              style=\"display:none;\">\n",
              "        \n",
              "  <svg xmlns=\"http://www.w3.org/2000/svg\" height=\"24px\"viewBox=\"0 0 24 24\"\n",
              "       width=\"24px\">\n",
              "    <path d=\"M0 0h24v24H0V0z\" fill=\"none\"/>\n",
              "    <path d=\"M18.56 5.44l.94 2.06.94-2.06 2.06-.94-2.06-.94-.94-2.06-.94 2.06-2.06.94zm-11 1L8.5 8.5l.94-2.06 2.06-.94-2.06-.94L8.5 2.5l-.94 2.06-2.06.94zm10 10l.94 2.06.94-2.06 2.06-.94-2.06-.94-.94-2.06-.94 2.06-2.06.94z\"/><path d=\"M17.41 7.96l-1.37-1.37c-.4-.4-.92-.59-1.43-.59-.52 0-1.04.2-1.43.59L10.3 9.45l-7.72 7.72c-.78.78-.78 2.05 0 2.83L4 21.41c.39.39.9.59 1.41.59.51 0 1.02-.2 1.41-.59l7.78-7.78 2.81-2.81c.8-.78.8-2.07 0-2.86zM5.41 20L4 18.59l7.72-7.72 1.47 1.35L5.41 20z\"/>\n",
              "  </svg>\n",
              "      </button>\n",
              "      \n",
              "  <style>\n",
              "    .colab-df-container {\n",
              "      display:flex;\n",
              "      flex-wrap:wrap;\n",
              "      gap: 12px;\n",
              "    }\n",
              "\n",
              "    .colab-df-convert {\n",
              "      background-color: #E8F0FE;\n",
              "      border: none;\n",
              "      border-radius: 50%;\n",
              "      cursor: pointer;\n",
              "      display: none;\n",
              "      fill: #1967D2;\n",
              "      height: 32px;\n",
              "      padding: 0 0 0 0;\n",
              "      width: 32px;\n",
              "    }\n",
              "\n",
              "    .colab-df-convert:hover {\n",
              "      background-color: #E2EBFA;\n",
              "      box-shadow: 0px 1px 2px rgba(60, 64, 67, 0.3), 0px 1px 3px 1px rgba(60, 64, 67, 0.15);\n",
              "      fill: #174EA6;\n",
              "    }\n",
              "\n",
              "    [theme=dark] .colab-df-convert {\n",
              "      background-color: #3B4455;\n",
              "      fill: #D2E3FC;\n",
              "    }\n",
              "\n",
              "    [theme=dark] .colab-df-convert:hover {\n",
              "      background-color: #434B5C;\n",
              "      box-shadow: 0px 1px 3px 1px rgba(0, 0, 0, 0.15);\n",
              "      filter: drop-shadow(0px 1px 2px rgba(0, 0, 0, 0.3));\n",
              "      fill: #FFFFFF;\n",
              "    }\n",
              "  </style>\n",
              "\n",
              "      <script>\n",
              "        const buttonEl =\n",
              "          document.querySelector('#df-00714f0f-cf1b-42d0-affc-f0657a4ef263 button.colab-df-convert');\n",
              "        buttonEl.style.display =\n",
              "          google.colab.kernel.accessAllowed ? 'block' : 'none';\n",
              "\n",
              "        async function convertToInteractive(key) {\n",
              "          const element = document.querySelector('#df-00714f0f-cf1b-42d0-affc-f0657a4ef263');\n",
              "          const dataTable =\n",
              "            await google.colab.kernel.invokeFunction('convertToInteractive',\n",
              "                                                     [key], {});\n",
              "          if (!dataTable) return;\n",
              "\n",
              "          const docLinkHtml = 'Like what you see? Visit the ' +\n",
              "            '<a target=\"_blank\" href=https://colab.research.google.com/notebooks/data_table.ipynb>data table notebook</a>'\n",
              "            + ' to learn more about interactive tables.';\n",
              "          element.innerHTML = '';\n",
              "          dataTable['output_type'] = 'display_data';\n",
              "          await google.colab.output.renderOutput(dataTable, element);\n",
              "          const docLink = document.createElement('div');\n",
              "          docLink.innerHTML = docLinkHtml;\n",
              "          element.appendChild(docLink);\n",
              "        }\n",
              "      </script>\n",
              "    </div>\n",
              "  </div>\n",
              "  "
            ]
          },
          "metadata": {},
          "execution_count": 7
        }
      ],
      "source": [
        "df.head()"
      ]
    },
    {
      "cell_type": "markdown",
      "metadata": {
        "id": "32u0d262T3E5"
      },
      "source": [
        "Handling Missing Data"
      ]
    },
    {
      "cell_type": "code",
      "execution_count": 8,
      "metadata": {
        "colab": {
          "base_uri": "https://localhost:8080/"
        },
        "id": "B40n4UrcSNyw",
        "outputId": "f34a2751-43cd-4999-d073-fec013acd9dd"
      },
      "outputs": [
        {
          "output_type": "execute_result",
          "data": {
            "text/plain": [
              "Date             False\n",
              "Closing Value     True\n",
              "dtype: bool"
            ]
          },
          "metadata": {},
          "execution_count": 8
        }
      ],
      "source": [
        "data.isnull().any()"
      ]
    },
    {
      "cell_type": "code",
      "execution_count": 9,
      "metadata": {
        "colab": {
          "base_uri": "https://localhost:8080/"
        },
        "id": "wVj_V-c0SdGZ",
        "outputId": "53e53374-16f2-4fb7-f18e-92e156f7886c"
      },
      "outputs": [
        {
          "output_type": "execute_result",
          "data": {
            "text/plain": [
              "Date             0\n",
              "Closing Value    7\n",
              "dtype: int64"
            ]
          },
          "metadata": {},
          "execution_count": 9
        }
      ],
      "source": [
        "data.isnull().sum()"
      ]
    },
    {
      "cell_type": "code",
      "execution_count": 10,
      "metadata": {
        "id": "ew7fiPTnSQ0a"
      },
      "outputs": [],
      "source": [
        "data.dropna(axis=0,inplace=True)"
      ]
    },
    {
      "cell_type": "code",
      "execution_count": 11,
      "metadata": {
        "colab": {
          "base_uri": "https://localhost:8080/"
        },
        "id": "JGGT_LgeSTk8",
        "outputId": "cad9e8fe-d863-4970-bd18-dd07d0144050"
      },
      "outputs": [
        {
          "output_type": "execute_result",
          "data": {
            "text/plain": [
              "Date             0\n",
              "Closing Value    0\n",
              "dtype: int64"
            ]
          },
          "metadata": {},
          "execution_count": 11
        }
      ],
      "source": [
        "data.isnull().sum()"
      ]
    },
    {
      "cell_type": "markdown",
      "metadata": {
        "id": "E-nrGi10TtgK"
      },
      "source": [
        "Feature Scaling"
      ]
    },
    {
      "cell_type": "code",
      "execution_count": 12,
      "metadata": {
        "colab": {
          "base_uri": "https://localhost:8080/"
        },
        "id": "A8UwSrkgSY1p",
        "outputId": "ce946d67-46ce-48ef-e58b-9c7cd9dbf009"
      },
      "outputs": [
        {
          "output_type": "execute_result",
          "data": {
            "text/plain": [
              "0       25.56\n",
              "1       26.00\n",
              "2       26.53\n",
              "3       25.85\n",
              "4       25.87\n",
              "        ...  \n",
              "8211    73.89\n",
              "8212    74.19\n",
              "8213    73.05\n",
              "8214    73.78\n",
              "8215    73.93\n",
              "Name: Closing Value, Length: 8216, dtype: float64"
            ]
          },
          "metadata": {},
          "execution_count": 12
        }
      ],
      "source": [
        "oil_price=data.reset_index()['Closing Value']\n",
        "oil_price"
      ]
    },
    {
      "cell_type": "code",
      "execution_count": 13,
      "metadata": {
        "id": "dHYesM1jTJwK"
      },
      "outputs": [],
      "source": [
        "from sklearn.preprocessing import MinMaxScaler\n",
        "scaler=MinMaxScaler(feature_range=(0,1))\n",
        "oil_price=scaler.fit_transform(np.array(oil_price).reshape(-1,1))"
      ]
    },
    {
      "cell_type": "markdown",
      "metadata": {
        "id": "U7swb_MCURcB"
      },
      "source": [
        "Data Visualisation"
      ]
    },
    {
      "cell_type": "code",
      "execution_count": 14,
      "metadata": {
        "colab": {
          "base_uri": "https://localhost:8080/",
          "height": 313
        },
        "id": "0taHpiBCUVKq",
        "outputId": "8e89375a-a71e-4f20-e318-4172c41147cc"
      },
      "outputs": [
        {
          "output_type": "execute_result",
          "data": {
            "text/plain": [
              "Text(0.5, 1.0, 'Price Trend over years')"
            ]
          },
          "metadata": {},
          "execution_count": 14
        },
        {
          "output_type": "display_data",
          "data": {
            "text/plain": [
              "<Figure size 432x288 with 1 Axes>"
            ],
            "image/png": "[encoded data removed]"
          },
          "metadata": {
            "needs_background": "light"
          }
        }
      ],
      "source": [
        "g = sns.lineplot(x='Date',y='Closing Value',data = df,color=\"red\")\n",
        "plt.title(\"Price Trend over years\")"
      ]
    },
    {
      "cell_type": "code",
      "execution_count": 15,
      "metadata": {
        "id": "cE6hhjm-UYob",
        "colab": {
          "base_uri": "https://localhost:8080/",
          "height": 283
        },
        "outputId": "8a15066c-3c67-4d73-f4f4-031a021e9dd2"
      },
      "outputs": [
        {
          "output_type": "execute_result",
          "data": {
            "text/plain": [
              "[<matplotlib.lines.Line2D at 0x7f74c3120050>]"
            ]
          },
          "metadata": {},
          "execution_count": 15
        },
        {
          "output_type": "display_data",
          "data": {
            "text/plain": [
              "<Figure size 432x288 with 1 Axes>"
            ],
            "image/png": "[encoded data removed]"
          },
          "metadata": {
            "needs_background": "light"
          }
        }
      ],
      "source": [
        "plt.plot(oil_price,color=\"green\")"
      ]
    },
    {
      "cell_type": "code",
      "source": [
        "def price_plot_from_date_range(df, start_date, end_date):\n",
        "    mask = (df['Date'] > start_date) & (df['Date'] <= end_date)\n",
        "    sdf = df.loc[mask]\n",
        "    plt.figure(figsize = (10,5))\n",
        "    chart = sns.lineplot(x='Date',y='Closing Value',data = sdf)\n",
        "    plt.title(\"Price Trend over years\")"
      ],
      "metadata": {
        "id": "06mC8yCmVwMB"
      },
      "execution_count": 16,
      "outputs": []
    },
    {
      "cell_type": "code",
      "source": [
        "price_plot_from_date_range(df,'2017-01-01','2017-01-15')"
      ],
      "metadata": {
        "id": "EdBQj1KOVy3R",
        "colab": {
          "base_uri": "https://localhost:8080/",
          "height": 350
        },
        "outputId": "f3c8585c-22ed-45a9-a4cb-ef1f01517b6c"
      },
      "execution_count": 17,
      "outputs": [
        {
          "output_type": "display_data",
          "data": {
            "text/plain": [
              "<Figure size 720x360 with 1 Axes>"
            ],
            "image/png": "[encoded data removed]"
          },
          "metadata": {
            "needs_background": "light"
          }
        }
      ]
    },
    {
      "cell_type": "markdown",
      "source": [
        "Splitting Dataset into Train and Test"
      ],
      "metadata": {
        "id": "IAysddohV-19"
      }
    },
    {
      "cell_type": "code",
      "source": [
        "training_size=int(len(oil_price)*0.65)\n",
        "test_size=len(oil_price)-training_size\n",
        "train_data,test_data=oil_price[0:training_size,:],oil_price[training_size:len(oil_price),:1]"
      ],
      "metadata": {
        "id": "qq2DhctQXExF"
      },
      "execution_count": 18,
      "outputs": []
    },
    {
      "cell_type": "code",
      "source": [
        "print(\"Training Data Size: \",training_size)\n",
        "print(\"Test Data Size: \",test_size)"
      ],
      "metadata": {
        "id": "QXEfVkoUXG8g",
        "colab": {
          "base_uri": "https://localhost:8080/"
        },
        "outputId": "f41933fc-9c41-45a4-b553-ef29a7aa0ce5"
      },
      "execution_count": 19,
      "outputs": [
        {
          "output_type": "stream",
          "name": "stdout",
          "text": [
            "Training Data Size:  5340\n",
            "Test Data Size:  2876\n"
          ]
        }
      ]
    },
    {
      "cell_type": "code",
      "source": [],
      "metadata": {
        "id": "I9NsgUegZxTC"
      },
      "execution_count": 19,
      "outputs": []
    },
    {
      "cell_type": "code",
      "source": [
        "train_data.shape\n"
      ],
      "metadata": {
        "id": "Fa1Pws9dXLCt",
        "colab": {
          "base_uri": "https://localhost:8080/"
        },
        "outputId": "85afc3e0-c043-42d0-f820-2e437d10bd91"
      },
      "execution_count": 20,
      "outputs": [
        {
          "output_type": "execute_result",
          "data": {
            "text/plain": [
              "(5340, 1)"
            ]
          },
          "metadata": {},
          "execution_count": 20
        }
      ]
    },
    {
      "cell_type": "code",
      "source": [
        "test_data.shape"
      ],
      "metadata": {
        "id": "ickJ00gkXOQ2",
        "colab": {
          "base_uri": "https://localhost:8080/"
        },
        "outputId": "a581e24a-7e4a-459b-fe8b-a4efc3f2a994"
      },
      "execution_count": 21,
      "outputs": [
        {
          "output_type": "execute_result",
          "data": {
            "text/plain": [
              "(2876, 1)"
            ]
          },
          "metadata": {},
          "execution_count": 21
        }
      ]
    },
    {
      "cell_type": "markdown",
      "source": [
        "Creating Dataset With Sliding Windows"
      ],
      "metadata": {
        "id": "zvXvfb1RXhZo"
      }
    },
    {
      "cell_type": "code",
      "source": [
        "def Dataset_Creation(dataset,time_step=1):\n",
        "  dataX,dataY=[],[]\n",
        "  for i in range(len(dataset)-time_step-1):\n",
        "    a=dataset[i:(i+time_step),0]\n",
        "    dataX.append(a)\n",
        "    dataY.append(dataset[i+time_step,0])\n",
        "  return np.array(dataX),np.array(dataY)"
      ],
      "metadata": {
        "id": "xbJk7M8rXoSZ"
      },
      "execution_count": 22,
      "outputs": []
    },
    {
      "cell_type": "code",
      "source": [
        "time_step=10\n",
        "x_train,y_train=Dataset_Creation(train_data,time_step)\n",
        "x_test,y_test=Dataset_Creation(test_data,time_step)"
      ],
      "metadata": {
        "id": "iLHiM6_MXp1P"
      },
      "execution_count": 23,
      "outputs": []
    },
    {
      "cell_type": "code",
      "source": [
        "time_step=10\n",
        "x_train,y_train=Dataset_Creation(train_data,time_step)\n",
        "x_test,y_test=Dataset_Creation(test_data,time_step)"
      ],
      "metadata": {
        "id": "9aMykqWvXwbc"
      },
      "execution_count": 24,
      "outputs": []
    },
    {
      "cell_type": "code",
      "source": [
        "y_train.shape"
      ],
      "metadata": {
        "id": "SZIMQx5ZpXkA",
        "colab": {
          "base_uri": "https://localhost:8080/"
        },
        "outputId": "e9678a94-13f5-4cbf-ad5d-259e737fc18d"
      },
      "execution_count": 25,
      "outputs": [
        {
          "output_type": "execute_result",
          "data": {
            "text/plain": [
              "(5329,)"
            ]
          },
          "metadata": {},
          "execution_count": 25
        }
      ]
    },
    {
      "cell_type": "code",
      "source": [
        "print(x_test.shape)\n",
        "print(y_test.shape)"
      ],
      "metadata": {
        "id": "wL0BgsFhXyji",
        "colab": {
          "base_uri": "https://localhost:8080/"
        },
        "outputId": "a41efea2-445d-4520-be86-132b2f724c65"
      },
      "execution_count": 26,
      "outputs": [
        {
          "output_type": "stream",
          "name": "stdout",
          "text": [
            "(2865, 10)\n",
            "(2865,)\n"
          ]
        }
      ]
    },
    {
      "cell_type": "code",
      "source": [
        "x_train"
      ],
      "metadata": {
        "id": "v3kCDOGtiVJy",
        "colab": {
          "base_uri": "https://localhost:8080/"
        },
        "outputId": "f9f8e8d5-4951-46b4-a011-d46d9b89dbf9"
      },
      "execution_count": 27,
      "outputs": [
        {
          "output_type": "execute_result",
          "data": {
            "text/plain": [
              "array([[0.11335703, 0.11661484, 0.12053902, ..., 0.10980305, 0.1089886 ,\n",
              "        0.11054346],\n",
              "       [0.11661484, 0.12053902, 0.11550422, ..., 0.1089886 , 0.11054346,\n",
              "        0.10165852],\n",
              "       [0.12053902, 0.11550422, 0.1156523 , ..., 0.11054346, 0.10165852,\n",
              "        0.09906708],\n",
              "       ...,\n",
              "       [0.36731823, 0.35176958, 0.36080261, ..., 0.36391234, 0.37042796,\n",
              "        0.37042796],\n",
              "       [0.35176958, 0.36080261, 0.35354657, ..., 0.37042796, 0.37042796,\n",
              "        0.37879461],\n",
              "       [0.36080261, 0.35354657, 0.35295424, ..., 0.37042796, 0.37879461,\n",
              "        0.37916482]])"
            ]
          },
          "metadata": {},
          "execution_count": 27
        }
      ]
    },
    {
      "cell_type": "code",
      "source": [
        "x_train=x_train.reshape(x_train.shape[0],x_train.shape[1],1)\n",
        "x_test=x_test.reshape(x_test.shape[0],x_test.shape[1],1)"
      ],
      "metadata": {
        "id": "xHesmHJrXzFT"
      },
      "execution_count": 28,
      "outputs": []
    },
    {
      "cell_type": "markdown",
      "source": [
        "# **Model Building**"
      ],
      "metadata": {
        "id": "INnmdj4_p4Ud"
      }
    },
    {
      "cell_type": "code",
      "source": [
        "from tensorflow.keras.layers import LSTM\n",
        "from tensorflow.keras.layers import Dense\n",
        "from tensorflow.keras.models import Sequential"
      ],
      "metadata": {
        "id": "RE5YiTndqBKU"
      },
      "execution_count": 29,
      "outputs": []
    },
    {
      "cell_type": "code",
      "source": [
        "model=Sequential()"
      ],
      "metadata": {
        "id": "qMDR6PRoqTXw"
      },
      "execution_count": 30,
      "outputs": []
    },
    {
      "cell_type": "markdown",
      "source": [
        "Adding LSTM Layers"
      ],
      "metadata": {
        "id": "v5AIigW9qg_n"
      }
    },
    {
      "cell_type": "code",
      "source": [
        "model.add(LSTM(50,return_sequences=True,input_shape=(10,1)))\n",
        "model.add(LSTM(50,return_sequences=True))\n",
        "model.add(LSTM(50))"
      ],
      "metadata": {
        "id": "SbJmPLO8qbxb"
      },
      "execution_count": 31,
      "outputs": []
    },
    {
      "cell_type": "markdown",
      "source": [
        "Adding Output Layers"
      ],
      "metadata": {
        "id": "At34FO-EB3Do"
      }
    },
    {
      "cell_type": "code",
      "source": [
        "model.add(Dense(1))"
      ],
      "metadata": {
        "id": "ecubRWm1qf8y"
      },
      "execution_count": 32,
      "outputs": []
    },
    {
      "cell_type": "code",
      "source": [
        "model.summary()"
      ],
      "metadata": {
        "id": "gSpqKd0HB8wA",
        "colab": {
          "base_uri": "https://localhost:8080/"
        },
        "outputId": "c0fa9a02-8926-4edf-9d8d-dec7cbfab217"
      },
      "execution_count": 33,
      "outputs": [
        {
          "output_type": "stream",
          "name": "stdout",
          "text": [
            "Model: \"sequential\"\n",
            "_________________________________________________________________\n",
            " Layer (type)                Output Shape              Param #   \n",
            "=================================================================\n",
            " lstm (LSTM)                 (None, 10, 50)            10400     \n",
            "                                                                 \n",
            " lstm_1 (LSTM)               (None, 10, 50)            20200     \n",
            "                                                                 \n",
            " lstm_2 (LSTM)               (None, 50)                20200     \n",
            "                                                                 \n",
            " dense (Dense)               (None, 1)                 51        \n",
            "                                                                 \n",
            "=================================================================\n",
            "Total params: 50,851\n",
            "Trainable params: 50,851\n",
            "Non-trainable params: 0\n",
            "_________________________________________________________________\n"
          ]
        }
      ]
    },
    {
      "cell_type": "code",
      "source": [
        "model.compile(loss='mean_squared_error',optimizer='adam')"
      ],
      "metadata": {
        "id": "1eQbKifhC_MW"
      },
      "execution_count": 34,
      "outputs": []
    },
    {
      "cell_type": "markdown",
      "source": [
        "Training"
      ],
      "metadata": {
        "id": "7TgGLza7DOIt"
      }
    },
    {
      "cell_type": "code",
      "source": [
        "model.fit(x_train,y_train,validation_data=(x_test,y_test),epochs=30,batch_size=64,verbose=1)"
      ],
      "metadata": {
        "id": "zlp8aT46DNmV",
        "colab": {
          "base_uri": "https://localhost:8080/"
        },
        "outputId": "014e6e17-d010-401f-aef8-4620c0497080"
      },
      "execution_count": 35,
      "outputs": [
        {
          "output_type": "stream",
          "name": "stdout",
          "text": [
            "Epoch 1/30\n",
            "84/84 [==============================] - 11s 44ms/step - loss: 0.0024 - val_loss: 9.7783e-04\n",
            "Epoch 2/30\n",
            "84/84 [==============================] - 2s 26ms/step - loss: 1.2720e-04 - val_loss: 7.6177e-04\n",
            "Epoch 3/30\n",
            "84/84 [==============================] - 2s 26ms/step - loss: 1.2270e-04 - val_loss: 8.0203e-04\n",
            "Epoch 4/30\n",
            "84/84 [==============================] - 2s 24ms/step - loss: 1.2704e-04 - val_loss: 7.8667e-04\n",
            "Epoch 5/30\n",
            "84/84 [==============================] - 2s 25ms/step - loss: 1.2124e-04 - val_loss: 0.0011\n",
            "Epoch 6/30\n",
            "84/84 [==============================] - 2s 26ms/step - loss: 1.2186e-04 - val_loss: 7.4732e-04\n",
            "Epoch 7/30\n",
            "84/84 [==============================] - 2s 27ms/step - loss: 1.3431e-04 - val_loss: 9.0029e-04\n",
            "Epoch 8/30\n",
            "84/84 [==============================] - 2s 27ms/step - loss: 1.1730e-04 - val_loss: 7.6446e-04\n",
            "Epoch 9/30\n",
            "84/84 [==============================] - 2s 25ms/step - loss: 1.1374e-04 - val_loss: 6.9864e-04\n",
            "Epoch 10/30\n",
            "84/84 [==============================] - 2s 24ms/step - loss: 1.1034e-04 - val_loss: 6.8648e-04\n",
            "Epoch 11/30\n",
            "84/84 [==============================] - 2s 24ms/step - loss: 1.1340e-04 - val_loss: 6.9493e-04\n",
            "Epoch 12/30\n",
            "84/84 [==============================] - 2s 25ms/step - loss: 1.0739e-04 - val_loss: 0.0011\n",
            "Epoch 13/30\n",
            "84/84 [==============================] - 2s 25ms/step - loss: 1.1533e-04 - val_loss: 7.2681e-04\n",
            "Epoch 14/30\n",
            "84/84 [==============================] - 2s 24ms/step - loss: 1.0406e-04 - val_loss: 6.5438e-04\n",
            "Epoch 15/30\n",
            "84/84 [==============================] - 2s 25ms/step - loss: 1.0103e-04 - val_loss: 0.0010\n",
            "Epoch 16/30\n",
            "84/84 [==============================] - 2s 24ms/step - loss: 1.1889e-04 - val_loss: 9.8823e-04\n",
            "Epoch 17/30\n",
            "84/84 [==============================] - 2s 25ms/step - loss: 9.5463e-05 - val_loss: 5.3020e-04\n",
            "Epoch 18/30\n",
            "84/84 [==============================] - 2s 28ms/step - loss: 1.0092e-04 - val_loss: 0.0011\n",
            "Epoch 19/30\n",
            "84/84 [==============================] - 2s 25ms/step - loss: 9.1285e-05 - val_loss: 4.5566e-04\n",
            "Epoch 20/30\n",
            "84/84 [==============================] - 2s 25ms/step - loss: 8.8389e-05 - val_loss: 0.0011\n",
            "Epoch 21/30\n",
            "84/84 [==============================] - 3s 35ms/step - loss: 8.4620e-05 - val_loss: 4.8645e-04\n",
            "Epoch 22/30\n",
            "84/84 [==============================] - 3s 30ms/step - loss: 7.5434e-05 - val_loss: 6.0836e-04\n",
            "Epoch 23/30\n",
            "84/84 [==============================] - 2s 28ms/step - loss: 7.5581e-05 - val_loss: 0.0011\n",
            "Epoch 24/30\n",
            "84/84 [==============================] - 2s 28ms/step - loss: 8.1397e-05 - val_loss: 3.2819e-04\n",
            "Epoch 25/30\n",
            "84/84 [==============================] - 2s 27ms/step - loss: 6.8843e-05 - val_loss: 9.2582e-04\n",
            "Epoch 26/30\n",
            "84/84 [==============================] - 2s 25ms/step - loss: 7.5860e-05 - val_loss: 5.5742e-04\n",
            "Epoch 27/30\n",
            "84/84 [==============================] - 2s 26ms/step - loss: 7.0119e-05 - val_loss: 3.1415e-04\n",
            "Epoch 28/30\n",
            "84/84 [==============================] - 2s 27ms/step - loss: 6.9170e-05 - val_loss: 7.3253e-04\n",
            "Epoch 29/30\n",
            "84/84 [==============================] - 2s 25ms/step - loss: 6.3723e-05 - val_loss: 2.6267e-04\n",
            "Epoch 30/30\n",
            "84/84 [==============================] - 2s 25ms/step - loss: 5.9897e-05 - val_loss: 2.6795e-04\n"
          ]
        },
        {
          "output_type": "execute_result",
          "data": {
            "text/plain": [
              "<keras.callbacks.History at 0x7f746281c790>"
            ]
          },
          "metadata": {},
          "execution_count": 35
        }
      ]
    },
    {
      "cell_type": "markdown",
      "source": [
        "Model Evaluation"
      ],
      "metadata": {
        "id": "Smy7M8QfD_b8"
      }
    },
    {
      "cell_type": "code",
      "source": [
        "train_predict=scaler.inverse_transform(train_data) \n",
        "test_predict=scaler.inverse_transform(test_data)"
      ],
      "metadata": {
        "id": "3NyBqlJyEEzH"
      },
      "execution_count": 36,
      "outputs": []
    },
    {
      "cell_type": "code",
      "source": [
        "import math \n",
        "from sklearn.metrics import mean_squared_error\n",
        "math.sqrt(mean_squared_error(train_data,train_predict))"
      ],
      "metadata": {
        "id": "idAQctaAD9FT",
        "colab": {
          "base_uri": "https://localhost:8080/"
        },
        "outputId": "639e65fc-22f5-4d37-fa69-3120baf217be"
      },
      "execution_count": 37,
      "outputs": [
        {
          "output_type": "execute_result",
          "data": {
            "text/plain": [
              "29.347830443269938"
            ]
          },
          "metadata": {},
          "execution_count": 37
        }
      ]
    },
    {
      "cell_type": "markdown",
      "source": [
        "Save The Model"
      ],
      "metadata": {
        "id": "DaEGvXF4EXiE"
      }
    },
    {
      "cell_type": "code",
      "source": [
        "from tensorflow.keras.models import load_model"
      ],
      "metadata": {
        "id": "TDsKVFI5EHHs"
      },
      "execution_count": 38,
      "outputs": []
    },
    {
      "cell_type": "code",
      "source": [
        "model.save(\"crude_oil_price_prediction.h5\")"
      ],
      "metadata": {
        "id": "T8FXIbJmEdQn"
      },
      "execution_count": 39,
      "outputs": []
    },
    {
      "cell_type": "markdown",
      "source": [
        "Test the Model"
      ],
      "metadata": {
        "id": "fy_KQg7iE7tQ"
      }
    },
    {
      "cell_type": "code",
      "source": [
        "look_back=10\n",
        "trainpredictPlot = np.empty_like(oil_price)\n",
        "trainpredictPlot[:, :]= np.nan\n",
        "trainpredictPlot[look_back:len(train_predict)+look_back, :] = train_predict\n",
        "\n",
        "testPredictplot = np.empty_like(oil_price)\n",
        "testPredictplot[:,: ] = np.nan\n",
        "testPredictplot[look_back:len(test_predict)+look_back, :] = test_predict\n",
        "\n",
        "plt.plot(scaler.inverse_transform(oil_price),color=\"red\")\n",
        "plt.show()"
      ],
      "metadata": {
        "id": "VQeYs6J3E-3Z",
        "colab": {
          "base_uri": "https://localhost:8080/",
          "height": 265
        },
        "outputId": "60dc2b5b-4fce-4f7b-bcca-99ae3f91df3d"
      },
      "execution_count": 40,
      "outputs": [
        {
          "output_type": "display_data",
          "data": {
            "text/plain": [
              "<Figure size 432x288 with 1 Axes>"
            ],
            "image/png": "[encoded data removed]"
          },
          "metadata": {
            "needs_background": "light"
          }
        }
      ]
    },
    {
      "cell_type": "code",
      "source": [
        "len(test_data)"
      ],
      "metadata": {
        "id": "XoRRzY_wFDEg",
        "colab": {
          "base_uri": "https://localhost:8080/"
        },
        "outputId": "45791a2a-ffdf-4e57-c564-f380edf60e9c"
      },
      "execution_count": 41,
      "outputs": [
        {
          "output_type": "execute_result",
          "data": {
            "text/plain": [
              "2876"
            ]
          },
          "metadata": {},
          "execution_count": 41
        }
      ]
    },
    {
      "cell_type": "code",
      "source": [
        "x_input=test_data[2866:2876].reshape(1,-1)\n",
        "x_input.shape"
      ],
      "metadata": {
        "id": "KfYXFlLGMJst",
        "colab": {
          "base_uri": "https://localhost:8080/"
        },
        "outputId": "d0df0118-2230-455e-f204-330496b4bd25"
      },
      "execution_count": 42,
      "outputs": [
        {
          "output_type": "execute_result",
          "data": {
            "text/plain": [
              "(1, 10)"
            ]
          },
          "metadata": {},
          "execution_count": 42
        }
      ]
    },
    {
      "cell_type": "code",
      "source": [
        "print(x_input)"
      ],
      "metadata": {
        "id": "obpTiwhQNZJ3",
        "colab": {
          "base_uri": "https://localhost:8080/"
        },
        "outputId": "011423d9-1e5c-45b5-8189-51cbf315509f"
      },
      "execution_count": 43,
      "outputs": [
        {
          "output_type": "stream",
          "name": "stdout",
          "text": [
            "[[0.4417296  0.4811195  0.49726048 0.46794017 0.47297497 0.47119799\n",
            "  0.47341922 0.46497853 0.47038353 0.47149415]]\n"
          ]
        }
      ]
    },
    {
      "cell_type": "code",
      "source": [
        "temp_input=list(x_input) \n",
        "temp_input=temp_input[0].tolist()"
      ],
      "metadata": {
        "id": "FJ-E9XFLMNeY"
      },
      "execution_count": 44,
      "outputs": []
    },
    {
      "cell_type": "code",
      "source": [
        "temp_input"
      ],
      "metadata": {
        "id": "uJhLAv4dMR4w",
        "colab": {
          "base_uri": "https://localhost:8080/"
        },
        "outputId": "470e63bf-2737-493f-b9c9-694b2b0f003c"
      },
      "execution_count": 45,
      "outputs": [
        {
          "output_type": "execute_result",
          "data": {
            "text/plain": [
              "[0.44172960165852215,\n",
              " 0.48111950244335855,\n",
              " 0.49726047682511476,\n",
              " 0.4679401747371539,\n",
              " 0.4729749740855915,\n",
              " 0.47119798608026064,\n",
              " 0.47341922108692425,\n",
              " 0.4649785280616022,\n",
              " 0.4703835332444839,\n",
              " 0.47149415074781587]"
            ]
          },
          "metadata": {},
          "execution_count": 45
        }
      ]
    },
    {
      "cell_type": "code",
      "source": [
        "lst_output=[]\n",
        "n_steps=10\n",
        "i=0\n",
        "while(i<10):\n",
        "    if(len(temp_input)>10):\n",
        "       x_input=np.array(temp_input[1:11]) \n",
        "       print(\"{} day input {}\".format(i,x_input))\n",
        "       x_input=x_input.reshape(1,-1)\n",
        "       x_input = x_input.reshape((1, n_steps, 1)) \n",
        "       yhat = model.predict(x_input, verbose=0)\n",
        "       print(\"{} day output {}\".format(i,yhat))\n",
        "       temp_input.extend(yhat[0].tolist())\n",
        "       temp_input=temp_input[1:] \n",
        "       lst_output.extend(yhat.tolist())\n",
        "       i=i+1\n",
        "    else:\n",
        "       x_input = x_input.reshape((1, n_steps,1))\n",
        "       yhat = model.predict(x_input, verbose=0)\n",
        "       print(yhat[0])\n",
        "       temp_input.extend(yhat[0].tolist()) \n",
        "       print(len(temp_input))\n",
        "       lst_output.extend(yhat.tolist())\n",
        "       i=i+1"
      ],
      "metadata": {
        "id": "0LQOFqEhMVWH",
        "colab": {
          "base_uri": "https://localhost:8080/"
        },
        "outputId": "4ddcd9e4-510e-4098-d7e1-c90ca1e72190"
      },
      "execution_count": 47,
      "outputs": [
        {
          "output_type": "stream",
          "name": "stdout",
          "text": [
            "0 day input [0.46606466 0.46496019 0.46383551 0.46256658 0.46089408 0.45931813\n",
            " 0.4577311  0.45617294 0.45454103 0.45299208]\n",
            "0 day output [[0.45145553]]\n",
            "1 day input [0.46496019 0.46383551 0.46256658 0.46089408 0.45931813 0.4577311\n",
            " 0.45617294 0.45454103 0.45299208 0.45145553]\n",
            "1 day output [[0.44987667]]\n",
            "2 day input [0.46383551 0.46256658 0.46089408 0.45931813 0.4577311  0.45617294\n",
            " 0.45454103 0.45299208 0.45145553 0.44987667]\n",
            "2 day output [[0.44831657]]\n",
            "3 day input [0.46256658 0.46089408 0.45931813 0.4577311  0.45617294 0.45454103\n",
            " 0.45299208 0.45145553 0.44987667 0.44831657]\n",
            "3 day output [[0.44676888]]\n",
            "4 day input [0.46089408 0.45931813 0.4577311  0.45617294 0.45454103 0.45299208\n",
            " 0.45145553 0.44987667 0.44831657 0.44676888]\n",
            "4 day output [[0.4452304]]\n",
            "5 day input [0.45931813 0.4577311  0.45617294 0.45454103 0.45299208 0.45145553\n",
            " 0.44987667 0.44831657 0.44676888 0.44523039]\n",
            "5 day output [[0.4436971]]\n",
            "6 day input [0.4577311  0.45617294 0.45454103 0.45299208 0.45145553 0.44987667\n",
            " 0.44831657 0.44676888 0.44523039 0.44369709]\n",
            "6 day output [[0.44217122]]\n",
            "7 day input [0.45617294 0.45454103 0.45299208 0.45145553 0.44987667 0.44831657\n",
            " 0.44676888 0.44523039 0.44369709 0.44217122]\n",
            "7 day output [[0.44065303]]\n",
            "8 day input [0.45454103 0.45299208 0.45145553 0.44987667 0.44831657 0.44676888\n",
            " 0.44523039 0.44369709 0.44217122 0.44065303]\n",
            "8 day output [[0.4391426]]\n",
            "9 day input [0.45299208 0.45145553 0.44987667 0.44831657 0.44676888 0.44523039\n",
            " 0.44369709 0.44217122 0.44065303 0.43914261]\n",
            "9 day output [[0.43763918]]\n"
          ]
        }
      ]
    }
  ],
  "metadata": {
    "colab": {
      "provenance": []
    },
    "kernelspec": {
      "display_name": "Python 3",
      "name": "python3"
    },
    "language_info": {
      "name": "python"
    }
  },
  "nbformat": 4,
  "nbformat_minor": 0
}