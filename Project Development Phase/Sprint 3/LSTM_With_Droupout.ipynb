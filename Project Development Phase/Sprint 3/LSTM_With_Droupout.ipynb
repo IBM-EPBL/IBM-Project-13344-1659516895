{
  "nbformat": 4,
  "nbformat_minor": 0,
  "metadata": {
    "colab": {
      "provenance": []
    },
    "kernelspec": {
      "name": "python3",
      "display_name": "Python 3"
    },
    "language_info": {
      "name": "python"
    }
  },
  "cells": [
    {
      "cell_type": "code",
      "execution_count": 12,
      "metadata": {
        "id": "1Zz_kPMOCpRA"
      },
      "outputs": [],
      "source": [
        "import matplotlib.pyplot as plt\n",
        "import pandas as pd\n",
        "import numpy as np\n",
        "import datetime\n",
        "import warnings\n",
        "import itertools\n",
        "import statsmodels.api as sm\n",
        "import seaborn as sns"
      ]
    },
    {
      "cell_type": "code",
      "source": [
        "data=pd.read_excel(\"Crude Oil Prices Daily.xlsx\")"
      ],
      "metadata": {
        "id": "fhM3c-VWC2-4"
      },
      "execution_count": 13,
      "outputs": []
    },
    {
      "cell_type": "code",
      "source": [
        "data.isnull().any()"
      ],
      "metadata": {
        "colab": {
          "base_uri": "https://localhost:8080/"
        },
        "id": "eMqBsYVDDHfw",
        "outputId": "aec64a1d-d091-44da-a3a7-a5599e2cd8d2"
      },
      "execution_count": 14,
      "outputs": [
        {
          "output_type": "execute_result",
          "data": {
            "text/plain": [
              "Date             False\n",
              "Closing Value     True\n",
              "dtype: bool"
            ]
          },
          "metadata": {},
          "execution_count": 14
        }
      ]
    },
    {
      "cell_type": "code",
      "source": [
        "data.dropna(axis=0,inplace=True)"
      ],
      "metadata": {
        "id": "r1c_9hZpDU63"
      },
      "execution_count": 15,
      "outputs": []
    },
    {
      "cell_type": "code",
      "source": [
        "data.isnull().sum()"
      ],
      "metadata": {
        "colab": {
          "base_uri": "https://localhost:8080/"
        },
        "id": "fBbNKwMeDXjd",
        "outputId": "82005c85-c4a4-43d1-c078-3cfb68bfe1a9"
      },
      "execution_count": 16,
      "outputs": [
        {
          "output_type": "execute_result",
          "data": {
            "text/plain": [
              "Date             0\n",
              "Closing Value    0\n",
              "dtype: int64"
            ]
          },
          "metadata": {},
          "execution_count": 16
        }
      ]
    },
    {
      "cell_type": "code",
      "source": [
        "data.head()"
      ],
      "metadata": {
        "colab": {
          "base_uri": "https://localhost:8080/",
          "height": 206
        },
        "id": "HF3uF6uqFzWE",
        "outputId": "61a833d3-54ea-478d-cd20-a3bbcac696d1"
      },
      "execution_count": 17,
      "outputs": [
        {
          "output_type": "execute_result",
          "data": {
            "text/plain": [
              "        Date  Closing Value\n",
              "0 1986-01-02          25.56\n",
              "1 1986-01-03          26.00\n",
              "2 1986-01-06          26.53\n",
              "3 1986-01-07          25.85\n",
              "4 1986-01-08          25.87"
            ],
            "text/html": [
              "\n",
              "  <div id=\"df-0a98837d-d1ad-4cc1-ac8e-61dc4ae9d0dc\">\n",
              "    <div class=\"colab-df-container\">\n",
              "      <div>\n",
              "<style scoped>\n",
              "    .dataframe tbody tr th:only-of-type {\n",
              "        vertical-align: middle;\n",
              "    }\n",
              "\n",
              "    .dataframe tbody tr th {\n",
              "        vertical-align: top;\n",
              "    }\n",
              "\n",
              "    .dataframe thead th {\n",
              "        text-align: right;\n",
              "    }\n",
              "</style>\n",
              "<table border=\"1\" class=\"dataframe\">\n",
              "  <thead>\n",
              "    <tr style=\"text-align: right;\">\n",
              "      <th></th>\n",
              "      <th>Date</th>\n",
              "      <th>Closing Value</th>\n",
              "    </tr>\n",
              "  </thead>\n",
              "  <tbody>\n",
              "    <tr>\n",
              "      <th>0</th>\n",
              "      <td>1986-01-02</td>\n",
              "      <td>25.56</td>\n",
              "    </tr>\n",
              "    <tr>\n",
              "      <th>1</th>\n",
              "      <td>1986-01-03</td>\n",
              "      <td>26.00</td>\n",
              "    </tr>\n",
              "    <tr>\n",
              "      <th>2</th>\n",
              "      <td>1986-01-06</td>\n",
              "      <td>26.53</td>\n",
              "    </tr>\n",
              "    <tr>\n",
              "      <th>3</th>\n",
              "      <td>1986-01-07</td>\n",
              "      <td>25.85</td>\n",
              "    </tr>\n",
              "    <tr>\n",
              "      <th>4</th>\n",
              "      <td>1986-01-08</td>\n",
              "      <td>25.87</td>\n",
              "    </tr>\n",
              "  </tbody>\n",
              "</table>\n",
              "</div>\n",
              "      <button class=\"colab-df-convert\" onclick=\"convertToInteractive('df-0a98837d-d1ad-4cc1-ac8e-61dc4ae9d0dc')\"\n",
              "              title=\"Convert this dataframe to an interactive table.\"\n",
              "              style=\"display:none;\">\n",
              "        \n",
              "  <svg xmlns=\"http://www.w3.org/2000/svg\" height=\"24px\"viewBox=\"0 0 24 24\"\n",
              "       width=\"24px\">\n",
              "    <path d=\"M0 0h24v24H0V0z\" fill=\"none\"/>\n",
              "    <path d=\"M18.56 5.44l.94 2.06.94-2.06 2.06-.94-2.06-.94-.94-2.06-.94 2.06-2.06.94zm-11 1L8.5 8.5l.94-2.06 2.06-.94-2.06-.94L8.5 2.5l-.94 2.06-2.06.94zm10 10l.94 2.06.94-2.06 2.06-.94-2.06-.94-.94-2.06-.94 2.06-2.06.94z\"/><path d=\"M17.41 7.96l-1.37-1.37c-.4-.4-.92-.59-1.43-.59-.52 0-1.04.2-1.43.59L10.3 9.45l-7.72 7.72c-.78.78-.78 2.05 0 2.83L4 21.41c.39.39.9.59 1.41.59.51 0 1.02-.2 1.41-.59l7.78-7.78 2.81-2.81c.8-.78.8-2.07 0-2.86zM5.41 20L4 18.59l7.72-7.72 1.47 1.35L5.41 20z\"/>\n",
              "  </svg>\n",
              "      </button>\n",
              "      \n",
              "  <style>\n",
              "    .colab-df-container {\n",
              "      display:flex;\n",
              "      flex-wrap:wrap;\n",
              "      gap: 12px;\n",
              "    }\n",
              "\n",
              "    .colab-df-convert {\n",
              "      background-color: #E8F0FE;\n",
              "      border: none;\n",
              "      border-radius: 50%;\n",
              "      cursor: pointer;\n",
              "      display: none;\n",
              "      fill: #1967D2;\n",
              "      height: 32px;\n",
              "      padding: 0 0 0 0;\n",
              "      width: 32px;\n",
              "    }\n",
              "\n",
              "    .colab-df-convert:hover {\n",
              "      background-color: #E2EBFA;\n",
              "      box-shadow: 0px 1px 2px rgba(60, 64, 67, 0.3), 0px 1px 3px 1px rgba(60, 64, 67, 0.15);\n",
              "      fill: #174EA6;\n",
              "    }\n",
              "\n",
              "    [theme=dark] .colab-df-convert {\n",
              "      background-color: #3B4455;\n",
              "      fill: #D2E3FC;\n",
              "    }\n",
              "\n",
              "    [theme=dark] .colab-df-convert:hover {\n",
              "      background-color: #434B5C;\n",
              "      box-shadow: 0px 1px 3px 1px rgba(0, 0, 0, 0.15);\n",
              "      filter: drop-shadow(0px 1px 2px rgba(0, 0, 0, 0.3));\n",
              "      fill: #FFFFFF;\n",
              "    }\n",
              "  </style>\n",
              "\n",
              "      <script>\n",
              "        const buttonEl =\n",
              "          document.querySelector('#df-0a98837d-d1ad-4cc1-ac8e-61dc4ae9d0dc button.colab-df-convert');\n",
              "        buttonEl.style.display =\n",
              "          google.colab.kernel.accessAllowed ? 'block' : 'none';\n",
              "\n",
              "        async function convertToInteractive(key) {\n",
              "          const element = document.querySelector('#df-0a98837d-d1ad-4cc1-ac8e-61dc4ae9d0dc');\n",
              "          const dataTable =\n",
              "            await google.colab.kernel.invokeFunction('convertToInteractive',\n",
              "                                                     [key], {});\n",
              "          if (!dataTable) return;\n",
              "\n",
              "          const docLinkHtml = 'Like what you see? Visit the ' +\n",
              "            '<a target=\"_blank\" href=https://colab.research.google.com/notebooks/data_table.ipynb>data table notebook</a>'\n",
              "            + ' to learn more about interactive tables.';\n",
              "          element.innerHTML = '';\n",
              "          dataTable['output_type'] = 'display_data';\n",
              "          await google.colab.output.renderOutput(dataTable, element);\n",
              "          const docLink = document.createElement('div');\n",
              "          docLink.innerHTML = docLinkHtml;\n",
              "          element.appendChild(docLink);\n",
              "        }\n",
              "      </script>\n",
              "    </div>\n",
              "  </div>\n",
              "  "
            ]
          },
          "metadata": {},
          "execution_count": 17
        }
      ]
    },
    {
      "cell_type": "code",
      "source": [
        "oil_price=data.reset_index()['Closing Value']\n",
        "oil_price"
      ],
      "metadata": {
        "colab": {
          "base_uri": "https://localhost:8080/"
        },
        "id": "z68FwY3YDYdo",
        "outputId": "dd34b41d-a08d-4f97-b4b1-e69a9c79a56e"
      },
      "execution_count": 18,
      "outputs": [
        {
          "output_type": "execute_result",
          "data": {
            "text/plain": [
              "0       25.56\n",
              "1       26.00\n",
              "2       26.53\n",
              "3       25.85\n",
              "4       25.87\n",
              "        ...  \n",
              "8211    73.89\n",
              "8212    74.19\n",
              "8213    73.05\n",
              "8214    73.78\n",
              "8215    73.93\n",
              "Name: Closing Value, Length: 8216, dtype: float64"
            ]
          },
          "metadata": {},
          "execution_count": 18
        }
      ]
    },
    {
      "cell_type": "code",
      "source": [
        "from sklearn.preprocessing import MinMaxScaler\n",
        "scaler=MinMaxScaler(feature_range=(0,1))\n",
        "oil_price=scaler.fit_transform(np.array(oil_price).reshape(-1,1))"
      ],
      "metadata": {
        "id": "-uTBmC8gDes7"
      },
      "execution_count": 19,
      "outputs": []
    },
    {
      "cell_type": "code",
      "source": [
        "plt.plot(oil_price,color=\"red\")"
      ],
      "metadata": {
        "colab": {
          "base_uri": "https://localhost:8080/",
          "height": 283
        },
        "id": "zJCgfhTvDk2l",
        "outputId": "fd141abd-64c2-4fef-a3fc-0c16127ba357"
      },
      "execution_count": 20,
      "outputs": [
        {
          "output_type": "execute_result",
          "data": {
            "text/plain": [
              "[<matplotlib.lines.Line2D at 0x7f87c2e9b850>]"
            ]
          },
          "metadata": {},
          "execution_count": 20
        },
        {
          "output_type": "display_data",
          "data": {
            "text/plain": [
              "<Figure size 432x288 with 1 Axes>"
            ],
            "image/png": "[encoded data removed]"
          },
          "metadata": {
            "needs_background": "light"
          }
        }
      ]
    },
    {
      "cell_type": "code",
      "source": [
        "data.to_csv (\"crude_oil_price_daily.csv\", index = None, header=True)\n",
        "df=pd.read_csv(\"crude_oil_price_daily.csv\")"
      ],
      "metadata": {
        "id": "RDn5AgpyEg3A"
      },
      "execution_count": 21,
      "outputs": []
    },
    {
      "cell_type": "code",
      "source": [
        "df.index"
      ],
      "metadata": {
        "colab": {
          "base_uri": "https://localhost:8080/"
        },
        "id": "QOvxQy0oHRJP",
        "outputId": "581120f6-0fe8-4051-cdd0-203d4c38b82c"
      },
      "execution_count": 22,
      "outputs": [
        {
          "output_type": "execute_result",
          "data": {
            "text/plain": [
              "RangeIndex(start=0, stop=8216, step=1)"
            ]
          },
          "metadata": {},
          "execution_count": 22
        }
      ]
    },
    {
      "cell_type": "code",
      "source": [
        "g = sns.lineplot(x='Date',y='Closing Value',data = df)\n",
        "plt.title(\"Price Trend over years\")"
      ],
      "metadata": {
        "colab": {
          "base_uri": "https://localhost:8080/",
          "height": 313
        },
        "id": "Q_AUHbnWKIqU",
        "outputId": "cfd893ac-5164-434c-e3d3-5a82f1208e03"
      },
      "execution_count": 23,
      "outputs": [
        {
          "output_type": "execute_result",
          "data": {
            "text/plain": [
              "Text(0.5, 1.0, 'Price Trend over years')"
            ]
          },
          "metadata": {},
          "execution_count": 23
        },
        {
          "output_type": "display_data",
          "data": {
            "text/plain": [
              "<Figure size 432x288 with 1 Axes>"
            ],
            "image/png": "[encoded data removed]"
          },
          "metadata": {
            "needs_background": "light"
          }
        }
      ]
    },
    {
      "cell_type": "code",
      "source": [
        "def price_plot_from_date_range(df, start_date, end_date):\n",
        "    mask = (df['Date'] > start_date) & (df['Date'] <= end_date)\n",
        "    sdf = df.loc[mask]\n",
        "    plt.figure(figsize = (10,5))\n",
        "    chart = sns.lineplot(x='Date',y='Closing Value',data = sdf)\n",
        "    plt.title(\"Brent Oil Price Trend\")"
      ],
      "metadata": {
        "id": "ztS0hCpIK4fg"
      },
      "execution_count": 24,
      "outputs": []
    },
    {
      "cell_type": "code",
      "source": [
        "price_plot_from_date_range(df,'2017-01-01','2017-01-15')"
      ],
      "metadata": {
        "colab": {
          "base_uri": "https://localhost:8080/",
          "height": 350
        },
        "id": "mJc8yLA9LXvn",
        "outputId": "8dc1eba7-feac-4a45-916f-b3b85ff89d29"
      },
      "execution_count": 25,
      "outputs": [
        {
          "output_type": "display_data",
          "data": {
            "text/plain": [
              "<Figure size 720x360 with 1 Axes>"
            ],
            "image/png": "[encoded data removed]"
          },
          "metadata": {
            "needs_background": "light"
          }
        }
      ]
    },
    {
      "cell_type": "code",
      "source": [
        "training_size=int(len(oil_price)*0.75)\n",
        "test_size=len(oil_price)-training_size\n",
        "train_data,test_data=oil_price[0:training_size,:],oil_price[training_size:len(oil_price),:1]"
      ],
      "metadata": {
        "id": "8gNRryiVMnHf"
      },
      "execution_count": 26,
      "outputs": []
    },
    {
      "cell_type": "code",
      "source": [
        "print(\"Training Data Size: \",training_size)\n",
        "print(\"Test Data Size: \",test_size)"
      ],
      "metadata": {
        "colab": {
          "base_uri": "https://localhost:8080/"
        },
        "id": "o_X1uuvuM3aG",
        "outputId": "3dc1a755-e468-4914-f0d3-0b88f458920c"
      },
      "execution_count": 27,
      "outputs": [
        {
          "output_type": "stream",
          "name": "stdout",
          "text": [
            "Training Data Size:  6162\n",
            "Test Data Size:  2054\n"
          ]
        }
      ]
    },
    {
      "cell_type": "code",
      "source": [
        "train_data.shape"
      ],
      "metadata": {
        "colab": {
          "base_uri": "https://localhost:8080/"
        },
        "id": "P2UHSMinNCnL",
        "outputId": "0fb1418a-7ccc-43f1-fbdb-65e6b07ac739"
      },
      "execution_count": 28,
      "outputs": [
        {
          "output_type": "execute_result",
          "data": {
            "text/plain": [
              "(6162, 1)"
            ]
          },
          "metadata": {},
          "execution_count": 28
        }
      ]
    },
    {
      "cell_type": "code",
      "source": [
        "def Dataset_Creation(dataset,time_step=1):\n",
        "  dataX,dataY=[],[]\n",
        "  for i in range(len(dataset)-time_step-1):\n",
        "    a=dataset[i:(i+time_step),0]\n",
        "    dataX.append(a)\n",
        "    dataY.append(dataset[i+time_step,0])\n",
        "  return np.array(dataX),np.array(dataY)"
      ],
      "metadata": {
        "id": "RWrMHiT0NKA0"
      },
      "execution_count": 29,
      "outputs": []
    },
    {
      "cell_type": "code",
      "source": [
        "time_step=10\n",
        "x_train,y_train=Dataset_Creation(train_data,time_step)\n",
        "x_test,y_test=Dataset_Creation(test_data,time_step)"
      ],
      "metadata": {
        "id": "VDBkh1Z6NNPX"
      },
      "execution_count": 30,
      "outputs": []
    },
    {
      "cell_type": "code",
      "source": [
        "print(x_train.shape)\n",
        "print(y_train.shape)"
      ],
      "metadata": {
        "colab": {
          "base_uri": "https://localhost:8080/"
        },
        "id": "5RSNDCkDNcaj",
        "outputId": "b8798c92-b78a-430a-fe7a-3869f8a9c98f"
      },
      "execution_count": 31,
      "outputs": [
        {
          "output_type": "stream",
          "name": "stdout",
          "text": [
            "(6151, 10)\n",
            "(6151,)\n"
          ]
        }
      ]
    },
    {
      "cell_type": "code",
      "source": [
        "print(x_test.shape)\n",
        "print(y_test.shape)"
      ],
      "metadata": {
        "colab": {
          "base_uri": "https://localhost:8080/"
        },
        "id": "_dur7Pc3NiXm",
        "outputId": "b8a0b4f3-38c6-44d3-f46b-bdb1c988eac8"
      },
      "execution_count": 32,
      "outputs": [
        {
          "output_type": "stream",
          "name": "stdout",
          "text": [
            "(2043, 10)\n",
            "(2043,)\n"
          ]
        }
      ]
    },
    {
      "cell_type": "code",
      "source": [
        "x_train=x_train.reshape(x_train.shape[0],x_train.shape[1],1)\n",
        "x_test=x_test.reshape(x_test.shape[0],x_test.shape[1],1)"
      ],
      "metadata": {
        "id": "M64DxBgiNqZZ"
      },
      "execution_count": 33,
      "outputs": []
    },
    {
      "cell_type": "code",
      "source": [
        "from tensorflow.keras.layers import LSTM\n",
        "from tensorflow.keras.layers import Dense\n",
        "from tensorflow.keras.models import Sequential\n",
        "from tensorflow.keras.layers import Dropout"
      ],
      "metadata": {
        "id": "_f1gkJvjREOd"
      },
      "execution_count": 40,
      "outputs": []
    },
    {
      "cell_type": "code",
      "source": [
        "Model=Sequential()"
      ],
      "metadata": {
        "id": "cFfWtlp7SjD2"
      },
      "execution_count": 41,
      "outputs": []
    },
    {
      "cell_type": "code",
      "source": [
        "model.compile(loss='mean_squared_error',optimizer='adam')"
      ],
      "metadata": {
        "id": "3F9FpUvNXcPH"
      },
      "execution_count": null,
      "outputs": []
    },
    {
      "cell_type": "code",
      "source": [
        "model.fit(x_train,y_train,validation_data=(x_test,y_test),epochs=20,batch_size=32,verbose=1)"
      ],
      "metadata": {
        "id": "7l8YnfEgXf66"
      },
      "execution_count": null,
      "outputs": []
    },
    {
      "cell_type": "code",
      "source": [
        "Model.add(LSTM(units = 60, return_sequences = True, input_shape = (10, 1)))\n",
        "Model.add(Dropout(0.1))\n",
        "\n",
        "Model.add(LSTM(units = 60, return_sequences = True))\n",
        "Model.add(Dropout(0.1))\n",
        "\n",
        "Model.add(LSTM(units = 60))\n",
        "Model.add(Dropout(0.1))\n",
        "\n",
        "Model.add(Dense(units = 1))"
      ],
      "metadata": {
        "id": "gJFLh1iNTdAc"
      },
      "execution_count": 42,
      "outputs": []
    },
    {
      "cell_type": "code",
      "source": [
        "Model.summary()"
      ],
      "metadata": {
        "colab": {
          "base_uri": "https://localhost:8080/"
        },
        "id": "N1hMqLHCTsed",
        "outputId": "28929ad9-eddc-4d72-fab7-6c7ddf2e5132"
      },
      "execution_count": 43,
      "outputs": [
        {
          "output_type": "stream",
          "name": "stdout",
          "text": [
            "Model: \"sequential_1\"\n",
            "_________________________________________________________________\n",
            " Layer (type)                Output Shape              Param #   \n",
            "=================================================================\n",
            " lstm_1 (LSTM)               (None, 10, 60)            14880     \n",
            "                                                                 \n",
            " dropout (Dropout)           (None, 10, 60)            0         \n",
            "                                                                 \n",
            " lstm_2 (LSTM)               (None, 10, 60)            29040     \n",
            "                                                                 \n",
            " dropout_1 (Dropout)         (None, 10, 60)            0         \n",
            "                                                                 \n",
            " lstm_3 (LSTM)               (None, 60)                29040     \n",
            "                                                                 \n",
            " dropout_2 (Dropout)         (None, 60)                0         \n",
            "                                                                 \n",
            " dense (Dense)               (None, 1)                 61        \n",
            "                                                                 \n",
            "=================================================================\n",
            "Total params: 73,021\n",
            "Trainable params: 73,021\n",
            "Non-trainable params: 0\n",
            "_________________________________________________________________\n"
          ]
        }
      ]
    },
    {
      "cell_type": "code",
      "source": [
        "from keras.callbacks import ReduceLROnPlateau\n",
        "Model.compile(loss='mean_squared_error',optimizer='adam')\n",
        "reduce_lr = ReduceLROnPlateau(monitor='val_loss',patience=5)"
      ],
      "metadata": {
        "id": "K9y8Pl96T9MN"
      },
      "execution_count": 50,
      "outputs": []
    },
    {
      "cell_type": "code",
      "source": [
        "Model.fit(x_train,y_train,validation_data=(x_test,y_test),epochs=30,batch_size=32,verbose=1)"
      ],
      "metadata": {
        "colab": {
          "base_uri": "https://localhost:8080/"
        },
        "id": "izlbw0bsW4kr",
        "outputId": "ebcef244-6af1-4c00-f30f-fda945e6162a"
      },
      "execution_count": 51,
      "outputs": [
        {
          "output_type": "stream",
          "name": "stdout",
          "text": [
            "Epoch 1/30\n",
            "193/193 [==============================] - 8s 18ms/step - loss: 2.0079e-04 - val_loss: 2.0387e-04\n",
            "Epoch 2/30\n",
            "193/193 [==============================] - 3s 13ms/step - loss: 2.0872e-04 - val_loss: 1.1751e-04\n",
            "Epoch 3/30\n",
            "193/193 [==============================] - 3s 14ms/step - loss: 2.1458e-04 - val_loss: 1.9314e-04\n",
            "Epoch 4/30\n",
            "193/193 [==============================] - 3s 14ms/step - loss: 2.2735e-04 - val_loss: 0.0010\n",
            "Epoch 5/30\n",
            "193/193 [==============================] - 3s 13ms/step - loss: 2.3821e-04 - val_loss: 1.7083e-04\n",
            "Epoch 6/30\n",
            "193/193 [==============================] - 3s 14ms/step - loss: 2.1173e-04 - val_loss: 1.3271e-04\n",
            "Epoch 7/30\n",
            "193/193 [==============================] - 3s 13ms/step - loss: 2.0808e-04 - val_loss: 1.5829e-04\n",
            "Epoch 8/30\n",
            "193/193 [==============================] - 3s 14ms/step - loss: 1.9883e-04 - val_loss: 1.9195e-04\n",
            "Epoch 9/30\n",
            "193/193 [==============================] - 3s 14ms/step - loss: 1.9215e-04 - val_loss: 1.7118e-04\n",
            "Epoch 10/30\n",
            "193/193 [==============================] - 3s 14ms/step - loss: 1.9912e-04 - val_loss: 1.9251e-04\n",
            "Epoch 11/30\n",
            "193/193 [==============================] - 3s 14ms/step - loss: 1.9334e-04 - val_loss: 3.5543e-04\n",
            "Epoch 12/30\n",
            "193/193 [==============================] - 3s 14ms/step - loss: 2.2072e-04 - val_loss: 2.8894e-04\n",
            "Epoch 13/30\n",
            "193/193 [==============================] - 3s 13ms/step - loss: 2.1649e-04 - val_loss: 2.2477e-04\n",
            "Epoch 14/30\n",
            "193/193 [==============================] - 3s 14ms/step - loss: 2.1933e-04 - val_loss: 3.5392e-04\n",
            "Epoch 15/30\n",
            "193/193 [==============================] - 3s 13ms/step - loss: 2.0825e-04 - val_loss: 1.4575e-04\n",
            "Epoch 16/30\n",
            "193/193 [==============================] - 3s 14ms/step - loss: 2.0935e-04 - val_loss: 5.7963e-04\n",
            "Epoch 17/30\n",
            "193/193 [==============================] - 3s 14ms/step - loss: 2.1251e-04 - val_loss: 6.8445e-04\n",
            "Epoch 18/30\n",
            "193/193 [==============================] - 3s 14ms/step - loss: 2.0637e-04 - val_loss: 2.1038e-04\n",
            "Epoch 19/30\n",
            "193/193 [==============================] - 3s 13ms/step - loss: 1.7472e-04 - val_loss: 1.6078e-04\n",
            "Epoch 20/30\n",
            "193/193 [==============================] - 3s 14ms/step - loss: 2.0834e-04 - val_loss: 7.9826e-04\n",
            "Epoch 21/30\n",
            "193/193 [==============================] - 3s 13ms/step - loss: 2.1488e-04 - val_loss: 1.2602e-04\n",
            "Epoch 22/30\n",
            "193/193 [==============================] - 3s 13ms/step - loss: 1.8874e-04 - val_loss: 1.2236e-04\n",
            "Epoch 23/30\n",
            "193/193 [==============================] - 3s 14ms/step - loss: 1.9020e-04 - val_loss: 1.1840e-04\n",
            "Epoch 24/30\n",
            "193/193 [==============================] - 3s 14ms/step - loss: 2.1540e-04 - val_loss: 1.5715e-04\n",
            "Epoch 25/30\n",
            "193/193 [==============================] - 3s 14ms/step - loss: 2.0702e-04 - val_loss: 5.1762e-04\n",
            "Epoch 26/30\n",
            "193/193 [==============================] - 3s 14ms/step - loss: 2.0831e-04 - val_loss: 1.3193e-04\n",
            "Epoch 27/30\n",
            "193/193 [==============================] - 3s 13ms/step - loss: 2.2483e-04 - val_loss: 2.2320e-04\n",
            "Epoch 28/30\n",
            "193/193 [==============================] - 3s 14ms/step - loss: 1.8733e-04 - val_loss: 2.6927e-04\n",
            "Epoch 29/30\n",
            "193/193 [==============================] - 3s 14ms/step - loss: 2.0253e-04 - val_loss: 1.2232e-04\n",
            "Epoch 30/30\n",
            "193/193 [==============================] - 3s 14ms/step - loss: 1.9932e-04 - val_loss: 1.2189e-04\n"
          ]
        },
        {
          "output_type": "execute_result",
          "data": {
            "text/plain": [
              "<keras.callbacks.History at 0x7f875d694d90>"
            ]
          },
          "metadata": {},
          "execution_count": 51
        }
      ]
    },
    {
      "cell_type": "code",
      "source": [
        "train_predict=scaler.inverse_transform(train_data) \n",
        "test_predict=scaler.inverse_transform(test_data)\n",
        "import math \n",
        "from sklearn.metrics import mean_squared_error\n",
        "math.sqrt(mean_squared_error(train_data,train_predict))"
      ],
      "metadata": {
        "colab": {
          "base_uri": "https://localhost:8080/"
        },
        "id": "_sf_lbfYU293",
        "outputId": "56643443-076f-48ba-af88-671b3c02e725"
      },
      "execution_count": 54,
      "outputs": [
        {
          "output_type": "execute_result",
          "data": {
            "text/plain": [
              "40.57502911125908"
            ]
          },
          "metadata": {},
          "execution_count": 54
        }
      ]
    },
    {
      "cell_type": "code",
      "source": [
        "Model.save(\"crude_oil_price_prediction_2.h5\")"
      ],
      "metadata": {
        "id": "yKh2NX6DVCUl"
      },
      "execution_count": 55,
      "outputs": []
    },
    {
      "cell_type": "code",
      "source": [
        "look_back=10\n",
        "trainpredictPlot = np.empty_like(oil_price)\n",
        "trainpredictPlot[:, :]= np.nan\n",
        "trainpredictPlot[look_back:len(train_predict)+look_back, :] = train_predict\n",
        "\n",
        "testPredictplot = np.empty_like(oil_price)\n",
        "testPredictplot[:,: ] = np.nan\n",
        "testPredictplot[look_back:len(test_predict)+look_back, :] = test_predict\n",
        "\n",
        "plt.plot(scaler.inverse_transform(oil_price),color=\"red\")\n",
        "plt.show()"
      ],
      "metadata": {
        "colab": {
          "base_uri": "https://localhost:8080/",
          "height": 265
        },
        "id": "kcvo3tIyVMVr",
        "outputId": "65e91a89-44d5-41f2-9d72-d770e65f9f52"
      },
      "execution_count": 56,
      "outputs": [
        {
          "output_type": "display_data",
          "data": {
            "text/plain": [
              "<Figure size 432x288 with 1 Axes>"
            ],
            "image/png": "[encoded data removed]"
          },
          "metadata": {
            "needs_background": "light"
          }
        }
      ]
    },
    {
      "cell_type": "code",
      "source": [
        "\n",
        "len(test_data)"
      ],
      "metadata": {
        "colab": {
          "base_uri": "https://localhost:8080/"
        },
        "id": "lqy_4cUgVa0v",
        "outputId": "7fd54a72-2ca3-44c2-fce1-cd84dec628f6"
      },
      "execution_count": 57,
      "outputs": [
        {
          "output_type": "execute_result",
          "data": {
            "text/plain": [
              "2054"
            ]
          },
          "metadata": {},
          "execution_count": 57
        }
      ]
    },
    {
      "cell_type": "code",
      "source": [
        "x_input=test_data[2044:].reshape(1,-1)\n",
        "x_input.shape"
      ],
      "metadata": {
        "colab": {
          "base_uri": "https://localhost:8080/"
        },
        "id": "Z9UzBTC6Vdw1",
        "outputId": "dd019033-55f9-40b9-9d73-2689bc60a24b"
      },
      "execution_count": 58,
      "outputs": [
        {
          "output_type": "execute_result",
          "data": {
            "text/plain": [
              "(1, 10)"
            ]
          },
          "metadata": {},
          "execution_count": 58
        }
      ]
    },
    {
      "cell_type": "code",
      "source": [
        "temp_input=list(x_input) \n",
        "temp_input=temp_input[0].tolist()"
      ],
      "metadata": {
        "id": "mOVsVwfkVpz_"
      },
      "execution_count": 59,
      "outputs": []
    },
    {
      "cell_type": "code",
      "source": [
        "temp_input"
      ],
      "metadata": {
        "colab": {
          "base_uri": "https://localhost:8080/"
        },
        "id": "sYerDvTHVqlO",
        "outputId": "b9fba3ed-2344-469b-fa95-34388cc66bd8"
      },
      "execution_count": 60,
      "outputs": [
        {
          "output_type": "execute_result",
          "data": {
            "text/plain": [
              "[0.44172960165852215,\n",
              " 0.48111950244335855,\n",
              " 0.49726047682511476,\n",
              " 0.4679401747371539,\n",
              " 0.4729749740855915,\n",
              " 0.47119798608026064,\n",
              " 0.47341922108692425,\n",
              " 0.4649785280616022,\n",
              " 0.4703835332444839,\n",
              " 0.47149415074781587]"
            ]
          },
          "metadata": {},
          "execution_count": 60
        }
      ]
    },
    {
      "cell_type": "code",
      "source": [
        "lst_output=[]\n",
        "n_steps=10\n",
        "i=0\n",
        "while(i<10):\n",
        "    if(len(temp_input)>10):\n",
        "       #print(temp_input)\n",
        "       x_input=np.array(temp_input[1:]) \n",
        "       print(\"{} day input {}\".format(i,x_input))\n",
        "       x_input=x_input.reshape(1,-1)\n",
        "       x_input = x_input.reshape((1, n_steps, 1)) \n",
        "       #print(x_input)\n",
        "       yhat = Model.predict(x_input, verbose=0)\n",
        "       print(\"{} day output {}\".format(i,yhat))\n",
        "       temp_input.extend(yhat[0].tolist())\n",
        "       temp_input=temp_input[1:] \n",
        "       #print(temp_input)\n",
        "       lst_output.extend(yhat.tolist())\n",
        "       i=i+1\n",
        "    else:\n",
        "       x_input = x_input.reshape((1, n_steps,1))\n",
        "       yhat = Model.predict(x_input, verbose=0)\n",
        "       print(yhat[0])\n",
        "       temp_input.extend(yhat[0].tolist()) \n",
        "       print(len(temp_input))\n",
        "       lst_output.extend(yhat.tolist())\n",
        "       i=i+1"
      ],
      "metadata": {
        "colab": {
          "base_uri": "https://localhost:8080/"
        },
        "id": "yBG8J2gCVvwY",
        "outputId": "1433b035-1858-4085-dce7-93b96590ff96"
      },
      "execution_count": 62,
      "outputs": [
        {
          "output_type": "stream",
          "name": "stdout",
          "text": [
            "[0.47101527]\n",
            "11\n",
            "1 day input [0.4811195  0.49726048 0.46794017 0.47297497 0.47119799 0.47341922\n",
            " 0.46497853 0.47038353 0.47149415 0.47101527]\n",
            "1 day output [[0.47114295]]\n",
            "2 day input [0.49726048 0.46794017 0.47297497 0.47119799 0.47341922 0.46497853\n",
            " 0.47038353 0.47149415 0.47101527 0.47114295]\n",
            "2 day output [[0.4711616]]\n",
            "3 day input [0.46794017 0.47297497 0.47119799 0.47341922 0.46497853 0.47038353\n",
            " 0.47149415 0.47101527 0.47114295 0.4711616 ]\n",
            "3 day output [[0.47104108]]\n",
            "4 day input [0.47297497 0.47119799 0.47341922 0.46497853 0.47038353 0.47149415\n",
            " 0.47101527 0.47114295 0.4711616  0.47104108]\n",
            "4 day output [[0.47093493]]\n",
            "5 day input [0.47119799 0.47341922 0.46497853 0.47038353 0.47149415 0.47101527\n",
            " 0.47114295 0.4711616  0.47104108 0.47093493]\n",
            "5 day output [[0.4708295]]\n",
            "6 day input [0.47341922 0.46497853 0.47038353 0.47149415 0.47101527 0.47114295\n",
            " 0.4711616  0.47104108 0.47093493 0.47082949]\n",
            "6 day output [[0.47074097]]\n",
            "7 day input [0.46497853 0.47038353 0.47149415 0.47101527 0.47114295 0.4711616\n",
            " 0.47104108 0.47093493 0.47082949 0.47074097]\n",
            "7 day output [[0.47066355]]\n",
            "8 day input [0.47038353 0.47149415 0.47101527 0.47114295 0.4711616  0.47104108\n",
            " 0.47093493 0.47082949 0.47074097 0.47066355]\n",
            "8 day output [[0.47061205]]\n",
            "9 day input [0.47149415 0.47101527 0.47114295 0.4711616  0.47104108 0.47093493\n",
            " 0.47082949 0.47074097 0.47066355 0.47061205]\n",
            "9 day output [[0.4705612]]\n"
          ]
        }
      ]
    },
    {
      "cell_type": "code",
      "source": [
        "day_new=np.arange(1,11) \n",
        "day_pred=np.arange(11,21)\n",
        "len(oil_price)\n",
        "plt.plot(day_new, scaler.inverse_transform(oil_price[8206:])) \n",
        "plt.plot(day_pred, scaler.inverse_transform(lst_output))"
      ],
      "metadata": {
        "colab": {
          "base_uri": "https://localhost:8080/",
          "height": 283
        },
        "id": "D2yHxkXWV3az",
        "outputId": "b3c20cb2-0164-4e34-e201-97f248687032"
      },
      "execution_count": 63,
      "outputs": [
        {
          "output_type": "execute_result",
          "data": {
            "text/plain": [
              "[<matplotlib.lines.Line2D at 0x7f8759d205d0>]"
            ]
          },
          "metadata": {},
          "execution_count": 63
        },
        {
          "output_type": "display_data",
          "data": {
            "text/plain": [
              "<Figure size 432x288 with 1 Axes>"
            ],
            "image/png": "[encoded data removed]"
          },
          "metadata": {
            "needs_background": "light"
          }
        }
      ]
    },
    {
      "cell_type": "code",
      "source": [
        "df3=oil_price.tolist() \n",
        "df3.extend(lst_output) \n",
        "plt.plot(df3[8100:])"
      ],
      "metadata": {
        "colab": {
          "base_uri": "https://localhost:8080/",
          "height": 283
        },
        "id": "hIFZ99PLWW7a",
        "outputId": "78272060-95ee-4c39-e789-6979d78f7b79"
      },
      "execution_count": 64,
      "outputs": [
        {
          "output_type": "execute_result",
          "data": {
            "text/plain": [
              "[<matplotlib.lines.Line2D at 0x7f87594e5250>]"
            ]
          },
          "metadata": {},
          "execution_count": 64
        },
        {
          "output_type": "display_data",
          "data": {
            "text/plain": [
              "<Figure size 432x288 with 1 Axes>"
            ],
            "image/png": "[encoded data removed]"
          },
          "metadata": {
            "needs_background": "light"
          }
        }
      ]
    },
    {
      "cell_type": "code",
      "source": [
        "df3=scaler.inverse_transform(df3).tolist()"
      ],
      "metadata": {
        "id": "vA99MgXpWheW"
      },
      "execution_count": 65,
      "outputs": []
    },
    {
      "cell_type": "code",
      "source": [
        "plt.plot(scaler.inverse_transform(oil_price))"
      ],
      "metadata": {
        "colab": {
          "base_uri": "https://localhost:8080/",
          "height": 283
        },
        "id": "yHxr2UvuWj6I",
        "outputId": "a884b062-c9be-4e5f-c521-fb528e6147fa"
      },
      "execution_count": 66,
      "outputs": [
        {
          "output_type": "execute_result",
          "data": {
            "text/plain": [
              "[<matplotlib.lines.Line2D at 0x7f8759297190>]"
            ]
          },
          "metadata": {},
          "execution_count": 66
        },
        {
          "output_type": "display_data",
          "data": {
            "text/plain": [
              "<Figure size 432x288 with 1 Axes>"
            ],
            "image/png": "[encoded data removed]"
          },
          "metadata": {
            "needs_background": "light"
          }
        }
      ]
    },
    {
      "cell_type": "code",
      "source": [],
      "metadata": {
        "id": "yYSijyEiWuD_"
      },
      "execution_count": null,
      "outputs": []
    }
  ]
}