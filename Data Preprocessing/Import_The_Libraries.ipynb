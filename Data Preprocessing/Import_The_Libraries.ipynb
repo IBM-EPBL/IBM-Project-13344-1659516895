{
  "nbformat": 4,
  "nbformat_minor": 0,
  "metadata": {
    "colab": {
      "provenance": []
    },
    "kernelspec": {
      "name": "python3",
      "display_name": "Python 3"
    },
    "language_info": {
      "name": "python"
    }
  },
  "cells": [
    {
      "cell_type": "code",
      "execution_count": 1,
      "metadata": {
        "id": "2DeaGdYERJQM"
      },
      "outputs": [],
      "source": [
        "import matplotlib.pyplot as plt\n",
        "import pandas as pd\n",
        "import numpy as np\n",
        "import datetime\n",
        "import warnings\n",
        "import itertools\n",
        "import statsmodels.api as sm\n",
        "import seaborn as sns"
      ]
    }
  ]
}